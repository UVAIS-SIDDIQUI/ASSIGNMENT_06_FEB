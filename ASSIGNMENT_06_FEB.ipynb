{
 "cells": [
  {
   "cell_type": "code",
   "execution_count": 1,
   "id": "b8585a16-798e-44b1-871c-5a96a5f597d4",
   "metadata": {},
   "outputs": [],
   "source": [
    "## Q1. Create a function which will take a list as an argument and return the product of all the numbers \n",
    "## after creating a flat list.\n",
    "\n",
    "## Use the below-given list as an argument for your function.\n",
    "\n",
    "\n",
    "## list1 = [1,2,3,4, [44,55,66, True], False, (34,56,78,89,34), {1,2,3,3,2,1}, {1:34, \"key2\": [55, 67, 78, 89], 4: (45, \n",
    "## 22, 61, 34)}, [56, 'data science'], 'Machine Learning']\n",
    "\n",
    "\n",
    "## Note: you must extract numeric keys and values of the dictionary also."
   ]
  },
  {
   "cell_type": "code",
   "execution_count": 7,
   "id": "d9ece729-c12a-4883-ad13-1f8127cfebf4",
   "metadata": {},
   "outputs": [
    {
     "name": "stdout",
     "output_type": "stream",
     "text": [
      "Product of all numbers in the list: 0\n"
     ]
    }
   ],
   "source": [
    "def flatten_list(lst):\n",
    "    flattened_list = []\n",
    "    for item in lst:\n",
    "        if isinstance(item, (list, tuple, set)):\n",
    "            flattened_list.extend(flatten_list(item))\n",
    "        elif isinstance(item, dict):\n",
    "            for key, value in item.items():\n",
    "                if isinstance(key, (int, float)):\n",
    "                    flattened_list.append(key)\n",
    "                if isinstance(value, (int, float)):\n",
    "                    flattened_list.append(value)\n",
    "        elif isinstance(item, (int, float)):\n",
    "            flattened_list.append(item)\n",
    "    return flattened_list\n",
    "\n",
    "def product_of_numbers(lst):\n",
    "    flattened_list = flatten_list(lst)\n",
    "    product = 1\n",
    "    for num in flattened_list:\n",
    "        product *= num\n",
    "    return product\n",
    "\n",
    "# Given list\n",
    "list1 = [1, 2, 3, 4, [44, 55, 66, True], False, (34, 56, 78, 89, 34), {1, 2, 3, 3, 2, 1}, {1: 34, \"key2\": [55, 67, 78, 89], 4: (45, 22, 61, 34)}, [56, 'data science'], 'Machine Learning']\n",
    "\n",
    "result = product_of_numbers(list1)\n",
    "print(\"Product of all numbers in the list:\", result)\n"
   ]
  },
  {
   "cell_type": "code",
   "execution_count": 1,
   "id": "71c409da-7f95-495a-8861-434c49171a8f",
   "metadata": {},
   "outputs": [],
   "source": [
    "#Q2.Write a python program for encrypting a message sent to you by your friend. The logic of encryption\n",
    "#should be such that, for a the output should be z. For b, the output should be y. For c, the output should\n",
    "#be x respectively. Also, the whitespace should be replaced with a dollar sign. Keep the punctuation\n",
    "#marks unchanged.\n",
    "\n",
    "\n",
    "#Input Sentence: I want to become a Data Scientist.\n",
    "\n",
    "\n",
    "#Encrypt the above input sentence using the program you just created.\n",
    "\n",
    "\n",
    "#Note: Convert the given input sentence into lowercase before encrypting. The final output should be\n",
    "#lowercase."
   ]
  },
  {
   "cell_type": "code",
   "execution_count": 3,
   "id": "f0b022ae-6ebd-45da-9cf7-9f758e03543b",
   "metadata": {},
   "outputs": [
    {
     "name": "stdout",
     "output_type": "stream",
     "text": [
      "Encrypted Message: r$dzmg$gl$yvxlnv$z$wzgz$hxrvmgrhg.\n"
     ]
    }
   ],
   "source": [
    "def encrypt_message(message):\n",
    "    encrypted_message = \"\"\n",
    "    for char in message:\n",
    "        if char.isalpha():\n",
    "            shift = ord(char) - ord('a')\n",
    "            encrypted_char = chr(ord('z') - shift)\n",
    "            encrypted_message += encrypted_char\n",
    "        elif char == ' ':\n",
    "            encrypted_message += '$'\n",
    "        else:\n",
    "            encrypted_message += char\n",
    "    return encrypted_message.lower()\n",
    "\n",
    "# Input \n",
    "input_sentence = \"I want to become a Data Scientist.\"\n",
    "\n",
    "# convert input sentence into lower case\n",
    "encrypted_sentence = encrypt_message(input_sentence.lower())\n",
    "\n",
    "print(\"Encrypted Message:\", encrypted_sentence)\n"
   ]
  },
  {
   "cell_type": "code",
   "execution_count": null,
   "id": "c1bd0270-889b-490a-afcd-49507181cc1a",
   "metadata": {},
   "outputs": [],
   "source": []
  }
 ],
 "metadata": {
  "kernelspec": {
   "display_name": "Python 3 (ipykernel)",
   "language": "python",
   "name": "python3"
  },
  "language_info": {
   "codemirror_mode": {
    "name": "ipython",
    "version": 3
   },
   "file_extension": ".py",
   "mimetype": "text/x-python",
   "name": "python",
   "nbconvert_exporter": "python",
   "pygments_lexer": "ipython3",
   "version": "3.10.8"
  }
 },
 "nbformat": 4,
 "nbformat_minor": 5
}
